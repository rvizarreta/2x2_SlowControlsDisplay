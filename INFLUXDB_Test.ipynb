{
 "cells": [
  {
   "cell_type": "code",
   "execution_count": 25,
   "metadata": {},
   "outputs": [],
   "source": [
    "from influxdb import InfluxDBClient\n",
    "from datetime import datetime\n",
    "import time"
   ]
  },
  {
   "cell_type": "code",
   "execution_count": 11,
   "metadata": {},
   "outputs": [
    {
     "data": {
      "text/plain": [
       "[{'name': '_internal'},\n",
       " {'name': 'argoncube'},\n",
       " {'name': 'gizmo'},\n",
       " {'name': 'MPODs'}]"
      ]
     },
     "execution_count": 11,
     "metadata": {},
     "output_type": "execute_result"
    }
   ],
   "source": [
    "# Setup database\n",
    "client = InfluxDBClient('localhost', 8086, 'MPODs')\n",
    "client.create_database('MPODs')\n",
    "client.switch_database('MPODs')\n",
    "client.get_list_database()"
   ]
  },
  {
   "cell_type": "code",
   "execution_count": 29,
   "metadata": {},
   "outputs": [],
   "source": [
    "# Setup payload\n",
    "json_payload = []\n",
    "data = {\n",
    "    # Table name\n",
    "    \"measurement\" : \"light\", \n",
    "    # Organizing data stuff\n",
    "    \"tags\" : { \n",
    "        \"module\" : \"VGA_12_pos\",\n",
    "        \"status\" : \"OFF\"\n",
    "    },\n",
    "    # Time stamp\n",
    "    \"time\" : datetime.now(), \n",
    "    # Data fields\n",
    "    \"fields\" : { \n",
    "        \"voltage\" : 0.5,\n",
    "        \"current\" : 0.25\n",
    "    }\n",
    "}\n",
    "json_payload.append(data)\n",
    "\n",
    "def JSON_setup(measurement, module, status, voltage, current):\n",
    "    return {\n",
    "        # Table name\n",
    "        \"measurement\" : measurement, \n",
    "        # Organizing data stuff\n",
    "        \"tags\" : { \n",
    "            \"module\" : module,\n",
    "            \"status\" : status\n",
    "        },\n",
    "        # Time stamp\n",
    "        \"time\" : datetime.now(), \n",
    "        # Data fields\n",
    "        \"fields\" : { \n",
    "            \"voltage\" : voltage,\n",
    "            \"current\" : current\n",
    "        }\n",
    "    }\n",
    "json_payload.append(data)\n",
    "#time.sleep(5)"
   ]
  },
  {
   "cell_type": "code",
   "execution_count": 33,
   "metadata": {},
   "outputs": [],
   "source": [
    "data = JSON_setup(\"Light\", \"VGA_12_pos\", \"OFF\", 0.75, 0.85)\n",
    "json_payload.append(data)"
   ]
  },
  {
   "cell_type": "code",
   "execution_count": 32,
   "metadata": {},
   "outputs": [
    {
     "data": {
      "text/plain": [
       "True"
      ]
     },
     "execution_count": 32,
     "metadata": {},
     "output_type": "execute_result"
    }
   ],
   "source": [
    "# Send our payload\n",
    "client.write_points(json_payload)"
   ]
  },
  {
   "cell_type": "code",
   "execution_count": 23,
   "metadata": {},
   "outputs": [
    {
     "data": {
      "text/plain": [
       "ResultSet({'('light', None)': [{'time': '2023-07-18T14:29:32.381906Z', 'current': 0.25, 'module': 'VGA_12_pos', 'status': 'OFF', 'voltage': 0.5}]})"
      ]
     },
     "execution_count": 23,
     "metadata": {},
     "output_type": "execute_result"
    }
   ],
   "source": [
    "result = client.query('select * from light')\n",
    "result"
   ]
  },
  {
   "cell_type": "code",
   "execution_count": 60,
   "metadata": {},
   "outputs": [
    {
     "data": {
      "text/plain": [
       "array([[0, 0, 0],\n",
       "       [2, 3, 1],\n",
       "       [2, 2, 2],\n",
       "       [2, 2, 2]])"
      ]
     },
     "execution_count": 60,
     "metadata": {},
     "output_type": "execute_result"
    }
   ],
   "source": [
    "import numpy as np\n",
    "matrix = np.array([[0,0,0],[2,3,1],[2,2,2],[2,2,2]])\n",
    "matrix"
   ]
  },
  {
   "cell_type": "code",
   "execution_count": 43,
   "metadata": {},
   "outputs": [],
   "source": [
    "def my_function(column):\n",
    "\n",
    "    return result"
   ]
  },
  {
   "cell_type": "code",
   "execution_count": 49,
   "metadata": {},
   "outputs": [
    {
     "ename": "TypeError",
     "evalue": "_apply_along_axis_dispatcher() missing 1 required positional argument: 'func1d'",
     "output_type": "error",
     "traceback": [
      "\u001b[0;31m---------------------------------------------------------------------------\u001b[0m",
      "\u001b[0;31mTypeError\u001b[0m                                 Traceback (most recent call last)",
      "\u001b[0;32m<ipython-input-49-00ee215f2235>\u001b[0m in \u001b[0;36m<module>\u001b[0;34m\u001b[0m\n\u001b[0;32m----> 1\u001b[0;31m \u001b[0mresult\u001b[0m \u001b[0;34m=\u001b[0m \u001b[0mnp\u001b[0m\u001b[0;34m.\u001b[0m\u001b[0mapply_along_axis\u001b[0m\u001b[0;34m(\u001b[0m\u001b[0maxis\u001b[0m\u001b[0;34m=\u001b[0m\u001b[0;36m0\u001b[0m\u001b[0;34m,\u001b[0m \u001b[0marr\u001b[0m\u001b[0;34m=\u001b[0m\u001b[0mmatrix\u001b[0m\u001b[0;34m)\u001b[0m\u001b[0;34m\u001b[0m\u001b[0;34m\u001b[0m\u001b[0m\n\u001b[0m\u001b[1;32m      2\u001b[0m \u001b[0mresult\u001b[0m\u001b[0;34m\u001b[0m\u001b[0;34m\u001b[0m\u001b[0m\n",
      "\u001b[0;32m<__array_function__ internals>\u001b[0m in \u001b[0;36mapply_along_axis\u001b[0;34m(*args, **kwargs)\u001b[0m\n",
      "\u001b[0;31mTypeError\u001b[0m: _apply_along_axis_dispatcher() missing 1 required positional argument: 'func1d'"
     ]
    }
   ],
   "source": [
    "result = np.apply_along_axis(axis=0, arr=matrix)\n",
    "result"
   ]
  },
  {
   "cell_type": "code",
   "execution_count": 54,
   "metadata": {},
   "outputs": [],
   "source": [
    "def INFLUX_write(self, powering, modules, data, mpod):\n",
    "    for module_number in len(data):\n",
    "        data_column = data[:,module_number]\n",
    "        measurement = powering\n",
    "        module = modules[module_number]\n",
    "        status = data_column[0]\n",
    "        voltage = data_column[1]\n",
    "        current = data_column[2]\n",
    "        client.write_points(mpod.JSON_setup(\n",
    "            measurement = powering,\n",
    "            module = modules[module_number],\n",
    "            status = data_column[0],\n",
    "            voltage = data_column[1],\n",
    "            current = data_column[2]\n",
    "\t\t))"
   ]
  },
  {
   "cell_type": "code",
   "execution_count": 58,
   "metadata": {},
   "outputs": [
    {
     "name": "stdout",
     "output_type": "stream",
     "text": [
      "0\n",
      "[0 2 2]\n",
      "1\n",
      "[0 3 2]\n",
      "2\n",
      "[0 1 2]\n"
     ]
    }
   ],
   "source": [
    "for module_number in range(0,len(matrix)):\n",
    "    print(module_number)\n",
    "    data_column = matrix[:,module_number]\n",
    "    print(data_column)"
   ]
  },
  {
   "cell_type": "code",
   "execution_count": 61,
   "metadata": {},
   "outputs": [
    {
     "data": {
      "text/plain": [
       "4"
      ]
     },
     "execution_count": 61,
     "metadata": {},
     "output_type": "execute_result"
    }
   ],
   "source": [
    "len(matrix)"
   ]
  },
  {
   "cell_type": "code",
   "execution_count": 67,
   "metadata": {},
   "outputs": [
    {
     "data": {
      "text/plain": [
       "'20230718 17:21:53'"
      ]
     },
     "execution_count": 67,
     "metadata": {},
     "output_type": "execute_result"
    }
   ],
   "source": [
    "datetime.now().strftime('%Y%m%d %H:%M:%S')"
   ]
  },
  {
   "cell_type": "code",
   "execution_count": 71,
   "metadata": {},
   "outputs": [
    {
     "name": "stdout",
     "output_type": "stream",
     "text": [
      "['a', 'b', 'c']\n"
     ]
    }
   ],
   "source": [
    "my_dict = {\n",
    "    'apple': 1,\n",
    "    'banana': 2,\n",
    "    'cherry': 3\n",
    "}\n",
    "\n",
    "first_letters = [key[0] for key in my_dict]\n",
    "print(first_letters)\n"
   ]
  },
  {
   "cell_type": "code",
   "execution_count": 80,
   "metadata": {},
   "outputs": [
    {
     "data": {
      "text/plain": [
       "2"
      ]
     },
     "execution_count": 80,
     "metadata": {},
     "output_type": "execute_result"
    }
   ],
   "source": [
    "list(my_dict.items())[1][1]"
   ]
  },
  {
   "cell_type": "code",
   "execution_count": 85,
   "metadata": {},
   "outputs": [
    {
     "ename": "SyntaxError",
     "evalue": "EOL while scanning string literal (<ipython-input-85-ed2c9a5de4ee>, line 1)",
     "output_type": "error",
     "traceback": [
      "\u001b[0;36m  File \u001b[0;32m\"<ipython-input-85-ed2c9a5de4ee>\"\u001b[0;36m, line \u001b[0;32m1\u001b[0m\n\u001b[0;31m    print(\"What would you like to control? \\n\u001b[0m\n\u001b[0m                                              ^\u001b[0m\n\u001b[0;31mSyntaxError\u001b[0m\u001b[0;31m:\u001b[0m EOL while scanning string literal\n"
     ]
    }
   ],
   "source": [
    "print(\"What would you like to control? \\n - Charge \\n - Light \\n - Rtd \\n - All\")\n"
   ]
  },
  {
   "cell_type": "code",
   "execution_count": null,
   "metadata": {},
   "outputs": [],
   "source": []
  },
  {
   "cell_type": "code",
   "execution_count": null,
   "metadata": {},
   "outputs": [],
   "source": []
  }
 ],
 "metadata": {
  "kernelspec": {
   "display_name": "myenv",
   "language": "python",
   "name": "python3"
  },
  "language_info": {
   "codemirror_mode": {
    "name": "ipython",
    "version": 3
   },
   "file_extension": ".py",
   "mimetype": "text/x-python",
   "name": "python",
   "nbconvert_exporter": "python",
   "pygments_lexer": "ipython3",
   "version": "3.6.8"
  },
  "orig_nbformat": 4
 },
 "nbformat": 4,
 "nbformat_minor": 2
}
