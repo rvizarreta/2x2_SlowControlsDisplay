{
 "cells": [
  {
   "cell_type": "code",
   "execution_count": 1,
   "metadata": {},
   "outputs": [],
   "source": [
    "import time\n",
    "import subprocess\n",
    "from configparser import ConfigParser\n",
    "from mpod_library import mpodPsu\n",
    "#import influxdb as ifd\n",
    "import sys\n",
    "# InfluxDB required packages\n",
    "from influxdb import InfluxDBClient\n",
    "from datetime import datetime"
   ]
  },
  {
   "cell_type": "code",
   "execution_count": 2,
   "metadata": {},
   "outputs": [],
   "source": [
    "# INITIAL CONFIGURATION\n",
    "conf = ConfigParser()\n",
    "conf.read(\"./config.ini\")\n",
    "\n",
    "# INSTANCE MPOD\n",
    "mpod = mpodPsu(['192.168.196.6'])\n",
    "mpodn = 0\n",
    "mpod.mpodSwitch(mpodn,1)\n",
    "\n",
    "# WRITE LOG\n",
    "#mpod.write_log()"
   ]
  },
  {
   "cell_type": "code",
   "execution_count": 8,
   "metadata": {},
   "outputs": [
    {
     "data": {
      "text/plain": [
       "'192.168.196.6'"
      ]
     },
     "execution_count": 8,
     "metadata": {},
     "output_type": "execute_result"
    }
   ],
   "source": [
    "mpod.ip[mpodn]"
   ]
  },
  {
   "cell_type": "code",
   "execution_count": 72,
   "metadata": {},
   "outputs": [
    {
     "data": {
      "text/plain": [
       "'BITS: 00 '"
      ]
     },
     "execution_count": 72,
     "metadata": {},
     "output_type": "execute_result"
    }
   ],
   "source": [
    "# turn on MPOD\n",
    "mpod.mpodSwitch(mpodn,1)\n",
    "mpod.getStatus(mpodn, \".u200\")"
   ]
  },
  {
   "cell_type": "code",
   "execution_count": 61,
   "metadata": {},
   "outputs": [
    {
     "data": {
      "text/plain": [
       "'No Such Instance currently exists at this OID'"
      ]
     },
     "execution_count": 61,
     "metadata": {},
     "output_type": "execute_result"
    }
   ],
   "source": [
    "# turn off MPOD\n",
    "mpod.mpodSwitch(mpodn,0)\n",
    "mpod.getStatus(mpodn, \".u200\")"
   ]
  },
  {
   "cell_type": "code",
   "execution_count": 68,
   "metadata": {},
   "outputs": [
    {
     "data": {
      "text/plain": [
       "False"
      ]
     },
     "execution_count": 68,
     "metadata": {},
     "output_type": "execute_result"
    }
   ],
   "source": [
    "# Verify channel status\n",
    "mpod.getChannelStatus(mpodn, \".u200\")"
   ]
  },
  {
   "cell_type": "code",
   "execution_count": 79,
   "metadata": {},
   "outputs": [
    {
     "data": {
      "text/plain": [
       "True"
      ]
     },
     "execution_count": 79,
     "metadata": {},
     "output_type": "execute_result"
    }
   ],
   "source": [
    "import os\n",
    "os.popen(\"snmpset -v 2c -M \" + mpod.miblib + \" -m +WIENER-CRATE-MIB -c guru \" + mpod.ip[mpodn] + \" outputSwitch\" + \".u200\" + \" i \" + str(0))\n",
    "mpod.getChannelStatus(mpodn, \".u200\")"
   ]
  },
  {
   "cell_type": "code",
   "execution_count": 67,
   "metadata": {},
   "outputs": [
    {
     "data": {
      "text/plain": [
       "<os._wrap_close at 0x7f952ee0e588>"
      ]
     },
     "execution_count": 67,
     "metadata": {},
     "output_type": "execute_result"
    }
   ],
   "source": [
    "os.popen(\"snmpset -v 2c -M \" + mpod.miblib + \" -m +WIENER-CRATE-MIB -c guru \" + mpod.ip[mpodn] + \" outputSwitch\" + \".u200\" + \" i \" + str(1))"
   ]
  },
  {
   "cell_type": "code",
   "execution_count": null,
   "metadata": {},
   "outputs": [],
   "source": [
    "# How do I measure individual channels?\n",
    "# How do I turn on/off individial channels?\n",
    "# What is the output of each channel? What are we plotting in grafana?"
   ]
  },
  {
   "cell_type": "code",
   "execution_count": 88,
   "metadata": {},
   "outputs": [],
   "source": [
    "import json\n",
    "with open('config.json', \"r\") as json_file:\n",
    "    moduleDB = json.load(json_file)"
   ]
  },
  {
   "cell_type": "code",
   "execution_count": 91,
   "metadata": {},
   "outputs": [
    {
     "data": {
      "text/plain": [
       "dict_keys(['ip', 'charge', 'light', 'rtd'])"
      ]
     },
     "execution_count": 91,
     "metadata": {},
     "output_type": "execute_result"
    }
   ],
   "source": [
    "moduleDB['module0']['mpod0'].keys()"
   ]
  },
  {
   "cell_type": "code",
   "execution_count": null,
   "metadata": {},
   "outputs": [],
   "source": []
  }
 ],
 "metadata": {
  "kernelspec": {
   "display_name": "myenv",
   "language": "python",
   "name": "python3"
  },
  "language_info": {
   "codemirror_mode": {
    "name": "ipython",
    "version": 3
   },
   "file_extension": ".py",
   "mimetype": "text/x-python",
   "name": "python",
   "nbconvert_exporter": "python",
   "pygments_lexer": "ipython3",
   "version": "3.6.8"
  },
  "orig_nbformat": 4
 },
 "nbformat": 4,
 "nbformat_minor": 2
}
