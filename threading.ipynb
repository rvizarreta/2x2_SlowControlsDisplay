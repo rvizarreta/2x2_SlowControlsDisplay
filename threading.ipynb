{
 "cells": [
  {
   "cell_type": "code",
   "execution_count": 1,
   "metadata": {},
   "outputs": [
    {
     "name": "stdout",
     "output_type": "stream",
     "text": [
      "test1\n",
      "test2\n",
      "pass\n"
     ]
    },
    {
     "name": "stdout",
     "output_type": "stream",
     "text": [
      "test1\n",
      "test2\n",
      "test1\n",
      "test2\n"
     ]
    }
   ],
   "source": [
    "import time, threading\n",
    "def background_code(abs):\n",
    "    while True:\n",
    "        print(abs)\n",
    "        time.sleep(2)\n",
    "\n",
    "thread1 = threading.Thread(target=background_code, args=([\"test1\"]), kwargs={})\n",
    "thread2 = threading.Thread(target=background_code, args=([\"test2\"]), kwargs={})\n",
    "thread1.start()\n",
    "thread2.start()\n",
    "print(\"pass\")"
   ]
  },
  {
   "cell_type": "code",
   "execution_count": null,
   "metadata": {},
   "outputs": [],
   "source": []
  }
 ],
 "metadata": {
  "kernelspec": {
   "display_name": "myenv",
   "language": "python",
   "name": "python3"
  },
  "language_info": {
   "codemirror_mode": {
    "name": "ipython",
    "version": 3
   },
   "file_extension": ".py",
   "mimetype": "text/x-python",
   "name": "python",
   "nbconvert_exporter": "python",
   "pygments_lexer": "ipython3",
   "version": "3.6.8"
  },
  "orig_nbformat": 4
 },
 "nbformat": 4,
 "nbformat_minor": 2
}
