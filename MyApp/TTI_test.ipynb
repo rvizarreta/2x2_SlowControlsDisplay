{
 "cells": [
  {
   "cell_type": "code",
   "execution_count": 2,
   "metadata": {},
   "outputs": [],
   "source": [
    "from tti_library import ttiPsu"
   ]
  },
  {
   "cell_type": "code",
   "execution_count": 4,
   "metadata": {},
   "outputs": [],
   "source": [
    "ip = '192.168.196.32'\n",
    "tti = ttiPsu(ip,1)"
   ]
  },
  {
   "cell_type": "code",
   "execution_count": 9,
   "metadata": {},
   "outputs": [
    {
     "name": "stdout",
     "output_type": "stream",
     "text": [
      "The current voltage on the TTI is:  0.0 \t V\n",
      "Currently the output is:  False\n"
     ]
    }
   ],
   "source": [
    "V_start = tti.readOutputVolts()\n",
    "status = tti.getOutputIsEnabled()\n",
    "print(\"The current voltage on the TTI is: \", V_start, \"\\t V\")\n",
    "print(\"Currently the output is: \", status)"
   ]
  },
  {
   "cell_type": "markdown",
   "metadata": {},
   "source": [
    "### POWER CONFIGURATION"
   ]
  },
  {
   "cell_type": "code",
   "execution_count": 10,
   "metadata": {},
   "outputs": [],
   "source": [
    "def ramp_up(ip,V_start,V0):\n",
    "    status = True\n",
    "    tti = ttiPsu(ip,1)\n",
    "\n",
    "    #   Makes sure output is turned off \n",
    "    try:\n",
    "        tti.setOutputEnable(False)\n",
    "    except:\n",
    "        failure(ip)\n",
    "        return False\n",
    "    \n",
    "    #   Turns output on\n",
    "    try:\n",
    "        tti.setOutputEnable(True)\n",
    "    except:\n",
    "        failure(ip)\n",
    "        return False\n",
    "    \n",
    "    #\tTest to ensure we can read voltages\n",
    "    try:\n",
    "        print(\"The current Voltage is: \" ,tti.readOutputVolts() ,\"V\")\n",
    "    except:\n",
    "        failure(ip)\n",
    "        return False\n",
    "    \n",
    "    #   Sets max current to 7.5 mA\n",
    "    tti.setMaxAmps(0.0075)\n",
    "    tti.setTripAmps(0.01) \n",
    "    tti.setTripVolts(110) \n",
    "    #   Sets voltage step size\n",
    "    tti.setStepSizeVolts(1)\n",
    "    #   Begins ramping up voltage\n",
    "    if V0 > 6:\n",
    "        print(\"starting ramp\")\n",
    "        #   Slow at the beginning\n",
    "        while tti.readOutputVolts() < 6:\n",
    "            #   Stops if incrimentation fails\n",
    "            try:\n",
    "                tti.incrementVoltage()\n",
    "                print(\"The current Voltage is: \" ,tti.readOutputVolts() ,\"V\")\n",
    "                #write()\n",
    "            except:\n",
    "                failure(ip)\n",
    "                status = False\n",
    "                break\n",
    "                \n",
    "        #   Breaks ends the function if there was an issue in incrimentation\n",
    "        if status == False:\n",
    "            failure(ip)\n",
    "            return False\n",
    "        \n",
    "        #   Speeds up incrimentation\n",
    "        fast_step = 6\n",
    "        tti.setStepSizeVolts(fast_step)\n",
    "        \n",
    "        #   Same as above but now to V0\n",
    "        while tti.readOutputVolts() < V0-fast_step:\n",
    "                try:    \n",
    "                    tti.incrementVoltage()\n",
    "                    print(\"The current Voltage is: \" ,tti.readOutputVolts() ,\"V\")\n",
    "                    #write()\n",
    "                except:\n",
    "                    failure(ip)\n",
    "                    status = False\n",
    "                    break\n",
    "                if status == False:\n",
    "                    failure(ip)\n",
    "                    return False\n",
    "        \n",
    "        tti.setMaxVolts(V0)\n",
    "        print(\"The current Voltage is: \" ,tti.readOutputVolts() ,\"V\")\n",
    "\n",
    "    #   If voltage is lower than threshold to speed up then just do normally\n",
    "    elif V0 < 7: \n",
    "        while tti.readOutputVolts() < 7:\n",
    "            try:\n",
    "                tti.incrementVoltage()\n",
    "                print(\"The current Voltage is: \" ,tti.readOutputVolts() ,\"V\")\n",
    "            except: \n",
    "                failure(ip)\n",
    "                break\n",
    "\n",
    "    tti.setStepSizeVolts(0)\n",
    "    tti.setMaxVolts(V0)            \n",
    "    return True\n",
    "\n",
    "def ramp_down(ip):\n",
    "    tti = ttiPsu(ip,1)\n",
    "        \n",
    "    #   Prints the voltage it starts at\n",
    "    print(\"The current Voltage is: \" ,tti.readOutputVolts() ,\"V\")\n",
    "    #write() \n",
    "    #   initializes the voltage step size to 1\n",
    "    tti.setStepSizeVolts(6)\n",
    "    \n",
    "    #   Lowers the voltage (reverse of before)\n",
    "    while tti.readOutputVolts() > 0.1:\n",
    "        if tti.readOutputVolts() < 7:\n",
    "            try:\n",
    "                tti.setStepSizeVolts(1)\n",
    "            except:\n",
    "                failure(ip)        \n",
    "        try:\n",
    "            tti.decrementVoltage()\n",
    "            print(\"The current Voltage is: \" ,tti.readOutputVolts() ,\"V\")\n",
    "        except:\n",
    "            failure(ip)\n",
    "        \n",
    "    #   Sets voltage to zero and turns off output\n",
    "    tti.setMaxVolts(0)\n",
    "    print(\"The current Voltage is: \" ,tti.readOutputVolts() ,\"V\")\n",
    "    tti.setOutputEnable(False)\n",
    "  \n",
    "#   Ramp voltage down to zero and turn off\n",
    "def failure(ip):\n",
    "    log = open(\"Historical.log\", \"a\")\n",
    "    log.write(\"ENTERING FAILURE MODE!\\n\")\n",
    "    #write()\n",
    "    tti = ttiPsu(ip,1)\n",
    "    ramp_down(ip)\n",
    "    tti.setOutputEnable(False)\n",
    "    log.write(\"Failure Protocol Succesfully executed\")\n",
    "    log.close()"
   ]
  },
  {
   "cell_type": "code",
   "execution_count": 11,
   "metadata": {},
   "outputs": [
    {
     "name": "stdout",
     "output_type": "stream",
     "text": [
      "The current Voltage is:  0.01 V\n",
      "starting ramp\n",
      "The current Voltage is:  1.01 V\n",
      "The current Voltage is:  2.01 V\n",
      "The current Voltage is:  3.01 V\n",
      "The current Voltage is:  4.01 V\n",
      "The current Voltage is:  5.01 V\n",
      "The current Voltage is:  6.01 V\n",
      "The current Voltage is:  12.02 V\n",
      "The current Voltage is:  18.02 V\n",
      "The current Voltage is:  24.02 V\n",
      "The current Voltage is:  30.02 V\n",
      "The current Voltage is:  36.02 V\n",
      "The current Voltage is:  42.02 V\n",
      "The current Voltage is:  48.02 V\n",
      "The current Voltage is:  54.02 V\n",
      "The current Voltage is:  60.02 V\n",
      "The current Voltage is:  66.02 V\n",
      "The current Voltage is:  72.03 V\n",
      "The current Voltage is:  78.03 V\n",
      "The current Voltage is:  84.03 V\n",
      "The current Voltage is:  90.03 V\n",
      "The current Voltage is:  96.04 V\n",
      "The current Voltage is:  100.04 V\n"
     ]
    },
    {
     "data": {
      "text/plain": [
       "True"
      ]
     },
     "execution_count": 11,
     "metadata": {},
     "output_type": "execute_result"
    }
   ],
   "source": [
    "ramp_up(ip,0,100)"
   ]
  },
  {
   "cell_type": "code",
   "execution_count": 12,
   "metadata": {},
   "outputs": [
    {
     "name": "stdout",
     "output_type": "stream",
     "text": [
      "The current voltage on the TTI is:  100.04 \t V\n",
      "Currently the output is:  True\n"
     ]
    }
   ],
   "source": [
    "V_start = tti.readOutputVolts()\n",
    "status = tti.getOutputIsEnabled()\n",
    "print(\"The current voltage on the TTI is: \", V_start, \"\\t V\")\n",
    "print(\"Currently the output is: \", status)"
   ]
  },
  {
   "cell_type": "code",
   "execution_count": 13,
   "metadata": {},
   "outputs": [
    {
     "name": "stdout",
     "output_type": "stream",
     "text": [
      "The current Voltage is:  100.04 V\n",
      "The current Voltage is:  94.04 V\n",
      "The current Voltage is:  88.04 V\n",
      "The current Voltage is:  82.04 V\n",
      "The current Voltage is:  76.03 V\n",
      "The current Voltage is:  70.03 V\n",
      "The current Voltage is:  64.02 V\n",
      "The current Voltage is:  58.03 V\n",
      "The current Voltage is:  52.02 V\n",
      "The current Voltage is:  46.02 V\n",
      "The current Voltage is:  40.02 V\n",
      "The current Voltage is:  34.02 V\n",
      "The current Voltage is:  28.03 V\n",
      "The current Voltage is:  22.02 V\n",
      "The current Voltage is:  16.02 V\n",
      "The current Voltage is:  10.01 V\n",
      "The current Voltage is:  4.01 V\n",
      "The current Voltage is:  3.01 V\n",
      "The current Voltage is:  2.01 V\n",
      "The current Voltage is:  1.01 V\n",
      "The current Voltage is:  0.01 V\n",
      "The current Voltage is:  0.01 V\n"
     ]
    }
   ],
   "source": [
    "ramp_down(ip)"
   ]
  },
  {
   "cell_type": "code",
   "execution_count": 14,
   "metadata": {},
   "outputs": [
    {
     "name": "stdout",
     "output_type": "stream",
     "text": [
      "The current voltage on the TTI is:  0.0 \t V\n",
      "Currently the output is:  False\n"
     ]
    }
   ],
   "source": [
    "V_start = tti.readOutputVolts()\n",
    "status = tti.getOutputIsEnabled()\n",
    "print(\"The current voltage on the TTI is: \", V_start, \"\\t V\")\n",
    "print(\"Currently the output is: \", status)"
   ]
  },
  {
   "cell_type": "markdown",
   "metadata": {},
   "source": [
    "### OUTPUT CONFIGURATION"
   ]
  },
  {
   "cell_type": "code",
   "execution_count": 16,
   "metadata": {},
   "outputs": [
    {
     "name": "stdout",
     "output_type": "stream",
     "text": [
      "Currently the output is:  True\n"
     ]
    }
   ],
   "source": [
    "# SET OUTPUT TRUE\n",
    "tti.setOutputEnable(True)\n",
    "status = tti.getOutputIsEnabled()\n",
    "print(\"Currently the output is: \", status)"
   ]
  },
  {
   "cell_type": "markdown",
   "metadata": {},
   "source": [
    "### USING CLASS"
   ]
  },
  {
   "cell_type": "code",
   "execution_count": 1,
   "metadata": {},
   "outputs": [
    {
     "name": "stderr",
     "output_type": "stream",
     "text": [
      "/home/acd/rvizarr/Mx2_SlowControlsDisplay/myenv/lib64/python3.6/site-packages/paramiko/transport.py:32: CryptographyDeprecationWarning: Python 3.6 is no longer supported by the Python core team. Therefore, support for it is deprecated in cryptography. The next release of cryptography will remove support for Python 3.6.\n",
      "  from cryptography.hazmat.backends import default_backend\n"
     ]
    }
   ],
   "source": [
    "from CLASSES.TTI_library import TTI\n",
    "from CLASSES.dictionary import classes_dictionary\n",
    "import json\n",
    "with open('CONFIG/modules_units.json', \"r\") as json_file:\n",
    "    moduleDB = json.load(json_file)"
   ]
  },
  {
   "cell_type": "code",
   "execution_count": 2,
   "metadata": {},
   "outputs": [],
   "source": [
    "# GET LIST OF CONNECTED UNITS\n",
    "PSU_list = []\n",
    "# Same process will be performed for each module within the array\n",
    "for module in moduleDB.keys():\n",
    "    units = moduleDB[module].keys()\n",
    "    for unit in units:\n",
    "        kind = moduleDB[module][unit][\"class\"]\n",
    "        object = classes_dictionary[kind]\n",
    "        PSU_list.append(object(module, unit, moduleDB[module][unit]))"
   ]
  },
  {
   "cell_type": "code",
   "execution_count": 3,
   "metadata": {},
   "outputs": [
    {
     "name": "stdout",
     "output_type": "stream",
     "text": [
      "The current voltage on the TTI is:  0.0 \t V\n",
      "Currently the output is:  False\n"
     ]
    }
   ],
   "source": [
    "tti = PSU_list[1]\n",
    "V_start = tti.readOutputVolts(1)\n",
    "status = tti.getOutputIsEnabled(1)\n",
    "print(\"The current voltage on the TTI is: \", V_start, \"\\t V\")\n",
    "print(\"Currently the output is: \", status)"
   ]
  },
  {
   "cell_type": "code",
   "execution_count": 4,
   "metadata": {},
   "outputs": [
    {
     "name": "stdout",
     "output_type": "stream",
     "text": [
      "The current Voltage is:  0.01 V\n",
      "Starting Ramp\n",
      "The current Voltage is:  1.01 V\n",
      "The current Voltage is:  2.0 V\n",
      "The current Voltage is:  3.0 V\n",
      "The current Voltage is:  4.01 V\n",
      "The current Voltage is:  5.0 V\n",
      "The current Voltage is:  6.01 V\n",
      "The current Voltage is:  12.01 V\n",
      "The current Voltage is:  18.01 V\n",
      "The current Voltage is:  24.02 V\n",
      "The current Voltage is:  30.02 V\n",
      "The current Voltage is:  36.02 V\n",
      "The current Voltage is:  42.02 V\n",
      "The current Voltage is:  48.02 V\n",
      "The current Voltage is:  54.02 V\n",
      "The current Voltage is:  60.03 V\n",
      "The current Voltage is:  66.02 V\n",
      "The current Voltage is:  72.03 V\n",
      "The current Voltage is:  78.03 V\n",
      "The current Voltage is:  84.03 V\n",
      "The current Voltage is:  90.04 V\n",
      "The current Voltage is:  96.05 V\n",
      "The current Voltage is:  96.04 V\n"
     ]
    },
    {
     "data": {
      "text/plain": [
       "True"
      ]
     },
     "execution_count": 4,
     "metadata": {},
     "output_type": "execute_result"
    }
   ],
   "source": [
    "tti.ramp_up(100,1)"
   ]
  },
  {
   "cell_type": "code",
   "execution_count": 4,
   "metadata": {},
   "outputs": [
    {
     "data": {
      "text/plain": [
       "{'voltage': False}"
      ]
     },
     "execution_count": 4,
     "metadata": {},
     "output_type": "execute_result"
    }
   ],
   "source": [
    "tti.measuring_status"
   ]
  },
  {
   "cell_type": "code",
   "execution_count": 6,
   "metadata": {},
   "outputs": [
    {
     "name": "stdout",
     "output_type": "stream",
     "text": [
      "The current Voltage is:  96.04 V\n",
      "The current Voltage is:  90.04 V\n",
      "The current Voltage is:  84.05 V\n",
      "The current Voltage is:  78.04 V\n",
      "The current Voltage is:  72.04 V\n",
      "The current Voltage is:  66.03 V\n",
      "The current Voltage is:  60.04 V\n",
      "The current Voltage is:  54.02 V\n",
      "The current Voltage is:  48.03 V\n",
      "The current Voltage is:  42.02 V\n",
      "The current Voltage is:  36.03 V\n",
      "The current Voltage is:  30.03 V\n",
      "The current Voltage is:  24.03 V\n",
      "The current Voltage is:  18.02 V\n",
      "The current Voltage is:  12.02 V\n",
      "The current Voltage is:  6.02 V\n",
      "The current Voltage is:  5.01 V\n",
      "The current Voltage is:  4.02 V\n",
      "The current Voltage is:  3.02 V\n",
      "The current Voltage is:  2.01 V\n",
      "The current Voltage is:  1.01 V\n",
      "The current Voltage is:  0.02 V\n",
      "The current Voltage is:  0.02 V\n"
     ]
    }
   ],
   "source": [
    "tti.ramp_down(1)"
   ]
  },
  {
   "cell_type": "code",
   "execution_count": 4,
   "metadata": {},
   "outputs": [
    {
     "data": {
      "text/plain": [
       "{'voltage': False}"
      ]
     },
     "execution_count": 4,
     "metadata": {},
     "output_type": "execute_result"
    }
   ],
   "source": [
    "tti.measuring_status"
   ]
  },
  {
   "cell_type": "code",
   "execution_count": 5,
   "metadata": {},
   "outputs": [
    {
     "name": "stdout",
     "output_type": "stream",
     "text": [
      "Continuous DAQ Activated: voltage. Taking data in real time\n"
     ]
    },
    {
     "name": "stderr",
     "output_type": "stream",
     "text": [
      "Traceback (most recent call last):\n",
      "  File \"/home/acd/rvizarr/Mx2_SlowControlsDisplay/MyApp/CLASSES/TTI_library.py\", line 355, in CONTINUOUS_monitoring\n",
      "    self.INFLUX_write(powering,data)\n",
      "  File \"/home/acd/rvizarr/Mx2_SlowControlsDisplay/MyApp/CLASSES/TTI_library.py\", line 314, in INFLUX_write\n",
      "    channel_name = channels[keys[int(key)]][\"name\"],\n",
      "IndexError: list index out of range\n",
      "ERROR:root:Internal Python error in the inspect module.\n",
      "Below is the traceback from this internal error.\n",
      "\n"
     ]
    },
    {
     "name": "stdout",
     "output_type": "stream",
     "text": [
      "*** Caught exception: <class 'IndexError'>: list index out of range\n",
      "Traceback (most recent call last):\n",
      "  File \"/home/acd/rvizarr/Mx2_SlowControlsDisplay/MyApp/CLASSES/TTI_library.py\", line 355, in CONTINUOUS_monitoring\n",
      "    self.INFLUX_write(powering,data)\n",
      "  File \"/home/acd/rvizarr/Mx2_SlowControlsDisplay/MyApp/CLASSES/TTI_library.py\", line 314, in INFLUX_write\n",
      "    channel_name = channels[keys[int(key)]][\"name\"],\n",
      "IndexError: list index out of range\n",
      "\n",
      "During handling of the above exception, another exception occurred:\n",
      "\n",
      "Traceback (most recent call last):\n",
      "  File \"/home/acd/rvizarr/Mx2_SlowControlsDisplay/myenv/lib64/python3.6/site-packages/IPython/core/interactiveshell.py\", line 3343, in run_code\n",
      "    exec(code_obj, self.user_global_ns, self.user_ns)\n",
      "  File \"<ipython-input-5-fc7e6422afaf>\", line 1, in <module>\n",
      "    tti.CONTINUOUS_monitoring(\"voltage\")\n",
      "  File \"/home/acd/rvizarr/Mx2_SlowControlsDisplay/MyApp/CLASSES/TTI_library.py\", line 362, in CONTINUOUS_monitoring\n",
      "    sys.exit(1)\n",
      "SystemExit: 1\n",
      "\n",
      "During handling of the above exception, another exception occurred:\n",
      "\n",
      "Traceback (most recent call last):\n",
      "  File \"/home/acd/rvizarr/Mx2_SlowControlsDisplay/myenv/lib64/python3.6/site-packages/IPython/core/ultratb.py\", line 1169, in get_records\n",
      "    return _fixed_getinnerframes(etb, number_of_lines_of_context, tb_offset)\n",
      "  File \"/home/acd/rvizarr/Mx2_SlowControlsDisplay/myenv/lib64/python3.6/site-packages/IPython/core/ultratb.py\", line 316, in wrapped\n",
      "    return f(*args, **kwargs)\n",
      "  File \"/home/acd/rvizarr/Mx2_SlowControlsDisplay/myenv/lib64/python3.6/site-packages/IPython/core/ultratb.py\", line 350, in _fixed_getinnerframes\n",
      "    records = fix_frame_records_filenames(inspect.getinnerframes(etb, context))\n",
      "  File \"/usr/lib64/python3.6/inspect.py\", line 1490, in getinnerframes\n",
      "    frameinfo = (tb.tb_frame,) + getframeinfo(tb, context)\n",
      "AttributeError: 'tuple' object has no attribute 'tb_frame'\n"
     ]
    },
    {
     "ename": "TypeError",
     "evalue": "object of type 'NoneType' has no len()",
     "output_type": "error",
     "traceback": [
      "\u001b[0;31m---------------------------------------------------------------------------\u001b[0m",
      "\u001b[0;31mIndexError\u001b[0m                                Traceback (most recent call last)",
      "\u001b[0;32m~/Mx2_SlowControlsDisplay/MyApp/CLASSES/TTI_library.py\u001b[0m in \u001b[0;36mCONTINUOUS_monitoring\u001b[0;34m(self, powering)\u001b[0m\n\u001b[1;32m    354\u001b[0m                 \u001b[0mdata\u001b[0m \u001b[0;34m=\u001b[0m \u001b[0mself\u001b[0m\u001b[0;34m.\u001b[0m\u001b[0mreadOutputVolts\u001b[0m\u001b[0;34m(\u001b[0m\u001b[0;36m1\u001b[0m\u001b[0;34m)\u001b[0m\u001b[0;34m\u001b[0m\u001b[0;34m\u001b[0m\u001b[0m\n\u001b[0;32m--> 355\u001b[0;31m                 \u001b[0mself\u001b[0m\u001b[0;34m.\u001b[0m\u001b[0mINFLUX_write\u001b[0m\u001b[0;34m(\u001b[0m\u001b[0mpowering\u001b[0m\u001b[0;34m,\u001b[0m\u001b[0mdata\u001b[0m\u001b[0;34m)\u001b[0m\u001b[0;34m\u001b[0m\u001b[0;34m\u001b[0m\u001b[0m\n\u001b[0m\u001b[1;32m    356\u001b[0m                 \u001b[0;31m#self.write_log()\u001b[0m\u001b[0;34m\u001b[0m\u001b[0;34m\u001b[0m\u001b[0;34m\u001b[0m\u001b[0m\n",
      "\u001b[0;32m~/Mx2_SlowControlsDisplay/MyApp/CLASSES/TTI_library.py\u001b[0m in \u001b[0;36mINFLUX_write\u001b[0;34m(self, powering, data)\u001b[0m\n\u001b[1;32m    313\u001b[0m                 \u001b[0mmeasurement\u001b[0m \u001b[0;34m=\u001b[0m \u001b[0mpowering\u001b[0m\u001b[0;34m,\u001b[0m\u001b[0;34m\u001b[0m\u001b[0;34m\u001b[0m\u001b[0m\n\u001b[0;32m--> 314\u001b[0;31m                 \u001b[0mchannel_name\u001b[0m \u001b[0;34m=\u001b[0m \u001b[0mchannels\u001b[0m\u001b[0;34m[\u001b[0m\u001b[0mkeys\u001b[0m\u001b[0;34m[\u001b[0m\u001b[0mint\u001b[0m\u001b[0;34m(\u001b[0m\u001b[0mkey\u001b[0m\u001b[0;34m)\u001b[0m\u001b[0;34m]\u001b[0m\u001b[0;34m]\u001b[0m\u001b[0;34m[\u001b[0m\u001b[0;34m\"name\"\u001b[0m\u001b[0;34m]\u001b[0m\u001b[0;34m,\u001b[0m\u001b[0;34m\u001b[0m\u001b[0;34m\u001b[0m\u001b[0m\n\u001b[0m\u001b[1;32m    315\u001b[0m                 \u001b[0mfields\u001b[0m \u001b[0;34m=\u001b[0m \u001b[0mzip\u001b[0m\u001b[0;34m(\u001b[0m\u001b[0mmeasurements_list\u001b[0m\u001b[0;34m,\u001b[0m \u001b[0;34m[\u001b[0m\u001b[0mdata\u001b[0m\u001b[0;34m]\u001b[0m\u001b[0;34m)\u001b[0m\u001b[0;34m\u001b[0m\u001b[0;34m\u001b[0m\u001b[0m\n",
      "\u001b[0;31mIndexError\u001b[0m: list index out of range",
      "\nDuring handling of the above exception, another exception occurred:\n",
      "\u001b[0;31mSystemExit\u001b[0m                                Traceback (most recent call last)",
      "    \u001b[0;31m[... skipping hidden 1 frame]\u001b[0m\n",
      "\u001b[0;32m<ipython-input-5-fc7e6422afaf>\u001b[0m in \u001b[0;36m<module>\u001b[0;34m\u001b[0m\n\u001b[0;32m----> 1\u001b[0;31m \u001b[0mtti\u001b[0m\u001b[0;34m.\u001b[0m\u001b[0mCONTINUOUS_monitoring\u001b[0m\u001b[0;34m(\u001b[0m\u001b[0;34m\"voltage\"\u001b[0m\u001b[0;34m)\u001b[0m\u001b[0;34m\u001b[0m\u001b[0;34m\u001b[0m\u001b[0m\n\u001b[0m",
      "\u001b[0;32m~/Mx2_SlowControlsDisplay/MyApp/CLASSES/TTI_library.py\u001b[0m in \u001b[0;36mCONTINUOUS_monitoring\u001b[0;34m(self, powering)\u001b[0m\n\u001b[1;32m    361\u001b[0m             \u001b[0mtraceback\u001b[0m\u001b[0;34m.\u001b[0m\u001b[0mprint_exc\u001b[0m\u001b[0;34m(\u001b[0m\u001b[0;34m)\u001b[0m\u001b[0;34m\u001b[0m\u001b[0;34m\u001b[0m\u001b[0m\n\u001b[0;32m--> 362\u001b[0;31m             \u001b[0msys\u001b[0m\u001b[0;34m.\u001b[0m\u001b[0mexit\u001b[0m\u001b[0;34m(\u001b[0m\u001b[0;36m1\u001b[0m\u001b[0;34m)\u001b[0m\u001b[0;34m\u001b[0m\u001b[0;34m\u001b[0m\u001b[0m\n\u001b[0m",
      "\u001b[0;31mSystemExit\u001b[0m: 1",
      "\nDuring handling of the above exception, another exception occurred:\n",
      "\u001b[0;31mTypeError\u001b[0m                                 Traceback (most recent call last)",
      "    \u001b[0;31m[... skipping hidden 1 frame]\u001b[0m\n",
      "\u001b[0;32m~/Mx2_SlowControlsDisplay/myenv/lib64/python3.6/site-packages/IPython/core/interactiveshell.py\u001b[0m in \u001b[0;36mshowtraceback\u001b[0;34m(self, exc_tuple, filename, tb_offset, exception_only, running_compiled_code)\u001b[0m\n\u001b[1;32m   2036\u001b[0m                            'the full traceback.\\n']\n\u001b[1;32m   2037\u001b[0m                     stb.extend(self.InteractiveTB.get_exception_only(etype,\n\u001b[0;32m-> 2038\u001b[0;31m                                                                      value))\n\u001b[0m\u001b[1;32m   2039\u001b[0m                 \u001b[0;32melse\u001b[0m\u001b[0;34m:\u001b[0m\u001b[0;34m\u001b[0m\u001b[0;34m\u001b[0m\u001b[0m\n\u001b[1;32m   2040\u001b[0m                     \u001b[0;32mtry\u001b[0m\u001b[0;34m:\u001b[0m\u001b[0;34m\u001b[0m\u001b[0;34m\u001b[0m\u001b[0m\n",
      "\u001b[0;32m~/Mx2_SlowControlsDisplay/myenv/lib64/python3.6/site-packages/IPython/core/ultratb.py\u001b[0m in \u001b[0;36mget_exception_only\u001b[0;34m(self, etype, value)\u001b[0m\n\u001b[1;32m    821\u001b[0m         \u001b[0mvalue\u001b[0m \u001b[0;34m:\u001b[0m \u001b[0mexception\u001b[0m \u001b[0mvalue\u001b[0m\u001b[0;34m\u001b[0m\u001b[0;34m\u001b[0m\u001b[0m\n\u001b[1;32m    822\u001b[0m         \"\"\"\n\u001b[0;32m--> 823\u001b[0;31m         \u001b[0;32mreturn\u001b[0m \u001b[0mListTB\u001b[0m\u001b[0;34m.\u001b[0m\u001b[0mstructured_traceback\u001b[0m\u001b[0;34m(\u001b[0m\u001b[0mself\u001b[0m\u001b[0;34m,\u001b[0m \u001b[0metype\u001b[0m\u001b[0;34m,\u001b[0m \u001b[0mvalue\u001b[0m\u001b[0;34m)\u001b[0m\u001b[0;34m\u001b[0m\u001b[0;34m\u001b[0m\u001b[0m\n\u001b[0m\u001b[1;32m    824\u001b[0m \u001b[0;34m\u001b[0m\u001b[0m\n\u001b[1;32m    825\u001b[0m     \u001b[0;32mdef\u001b[0m \u001b[0mshow_exception_only\u001b[0m\u001b[0;34m(\u001b[0m\u001b[0mself\u001b[0m\u001b[0;34m,\u001b[0m \u001b[0metype\u001b[0m\u001b[0;34m,\u001b[0m \u001b[0mevalue\u001b[0m\u001b[0;34m)\u001b[0m\u001b[0;34m:\u001b[0m\u001b[0;34m\u001b[0m\u001b[0;34m\u001b[0m\u001b[0m\n",
      "\u001b[0;32m~/Mx2_SlowControlsDisplay/myenv/lib64/python3.6/site-packages/IPython/core/ultratb.py\u001b[0m in \u001b[0;36mstructured_traceback\u001b[0;34m(self, etype, evalue, etb, tb_offset, context)\u001b[0m\n\u001b[1;32m    700\u001b[0m                     chained_exceptions_tb_offset, context)\n\u001b[1;32m    701\u001b[0m                 \u001b[0;34m+\u001b[0m \u001b[0mchained_exception_message\u001b[0m\u001b[0;34m\u001b[0m\u001b[0;34m\u001b[0m\u001b[0m\n\u001b[0;32m--> 702\u001b[0;31m                 + out_list)\n\u001b[0m\u001b[1;32m    703\u001b[0m \u001b[0;34m\u001b[0m\u001b[0m\n\u001b[1;32m    704\u001b[0m         \u001b[0;32mreturn\u001b[0m \u001b[0mout_list\u001b[0m\u001b[0;34m\u001b[0m\u001b[0;34m\u001b[0m\u001b[0m\n",
      "\u001b[0;32m~/Mx2_SlowControlsDisplay/myenv/lib64/python3.6/site-packages/IPython/core/ultratb.py\u001b[0m in \u001b[0;36mstructured_traceback\u001b[0;34m(self, etype, value, tb, tb_offset, number_of_lines_of_context)\u001b[0m\n\u001b[1;32m   1434\u001b[0m             \u001b[0mself\u001b[0m\u001b[0;34m.\u001b[0m\u001b[0mtb\u001b[0m \u001b[0;34m=\u001b[0m \u001b[0mtb\u001b[0m\u001b[0;34m\u001b[0m\u001b[0;34m\u001b[0m\u001b[0m\n\u001b[1;32m   1435\u001b[0m         return FormattedTB.structured_traceback(\n\u001b[0;32m-> 1436\u001b[0;31m             self, etype, value, tb, tb_offset, number_of_lines_of_context)\n\u001b[0m\u001b[1;32m   1437\u001b[0m \u001b[0;34m\u001b[0m\u001b[0m\n\u001b[1;32m   1438\u001b[0m \u001b[0;34m\u001b[0m\u001b[0m\n",
      "\u001b[0;32m~/Mx2_SlowControlsDisplay/myenv/lib64/python3.6/site-packages/IPython/core/ultratb.py\u001b[0m in \u001b[0;36mstructured_traceback\u001b[0;34m(self, etype, value, tb, tb_offset, number_of_lines_of_context)\u001b[0m\n\u001b[1;32m   1334\u001b[0m             \u001b[0;31m# Verbose modes need a full traceback\u001b[0m\u001b[0;34m\u001b[0m\u001b[0;34m\u001b[0m\u001b[0;34m\u001b[0m\u001b[0m\n\u001b[1;32m   1335\u001b[0m             return VerboseTB.structured_traceback(\n\u001b[0;32m-> 1336\u001b[0;31m                 \u001b[0mself\u001b[0m\u001b[0;34m,\u001b[0m \u001b[0metype\u001b[0m\u001b[0;34m,\u001b[0m \u001b[0mvalue\u001b[0m\u001b[0;34m,\u001b[0m \u001b[0mtb\u001b[0m\u001b[0;34m,\u001b[0m \u001b[0mtb_offset\u001b[0m\u001b[0;34m,\u001b[0m \u001b[0mnumber_of_lines_of_context\u001b[0m\u001b[0;34m\u001b[0m\u001b[0;34m\u001b[0m\u001b[0m\n\u001b[0m\u001b[1;32m   1337\u001b[0m             )\n\u001b[1;32m   1338\u001b[0m         \u001b[0;32melif\u001b[0m \u001b[0mmode\u001b[0m \u001b[0;34m==\u001b[0m \u001b[0;34m'Minimal'\u001b[0m\u001b[0;34m:\u001b[0m\u001b[0;34m\u001b[0m\u001b[0;34m\u001b[0m\u001b[0m\n",
      "\u001b[0;32m~/Mx2_SlowControlsDisplay/myenv/lib64/python3.6/site-packages/IPython/core/ultratb.py\u001b[0m in \u001b[0;36mstructured_traceback\u001b[0;34m(self, etype, evalue, etb, tb_offset, number_of_lines_of_context)\u001b[0m\n\u001b[1;32m   1191\u001b[0m \u001b[0;34m\u001b[0m\u001b[0m\n\u001b[1;32m   1192\u001b[0m         formatted_exception = self.format_exception_as_a_whole(etype, evalue, etb, number_of_lines_of_context,\n\u001b[0;32m-> 1193\u001b[0;31m                                                                tb_offset)\n\u001b[0m\u001b[1;32m   1194\u001b[0m \u001b[0;34m\u001b[0m\u001b[0m\n\u001b[1;32m   1195\u001b[0m         \u001b[0mcolors\u001b[0m \u001b[0;34m=\u001b[0m \u001b[0mself\u001b[0m\u001b[0;34m.\u001b[0m\u001b[0mColors\u001b[0m  \u001b[0;31m# just a shorthand + quicker name lookup\u001b[0m\u001b[0;34m\u001b[0m\u001b[0;34m\u001b[0m\u001b[0m\n",
      "\u001b[0;32m~/Mx2_SlowControlsDisplay/myenv/lib64/python3.6/site-packages/IPython/core/ultratb.py\u001b[0m in \u001b[0;36mformat_exception_as_a_whole\u001b[0;34m(self, etype, evalue, etb, number_of_lines_of_context, tb_offset)\u001b[0m\n\u001b[1;32m   1148\u001b[0m \u001b[0;34m\u001b[0m\u001b[0m\n\u001b[1;32m   1149\u001b[0m \u001b[0;34m\u001b[0m\u001b[0m\n\u001b[0;32m-> 1150\u001b[0;31m         \u001b[0mlast_unique\u001b[0m\u001b[0;34m,\u001b[0m \u001b[0mrecursion_repeat\u001b[0m \u001b[0;34m=\u001b[0m \u001b[0mfind_recursion\u001b[0m\u001b[0;34m(\u001b[0m\u001b[0morig_etype\u001b[0m\u001b[0;34m,\u001b[0m \u001b[0mevalue\u001b[0m\u001b[0;34m,\u001b[0m \u001b[0mrecords\u001b[0m\u001b[0;34m)\u001b[0m\u001b[0;34m\u001b[0m\u001b[0;34m\u001b[0m\u001b[0m\n\u001b[0m\u001b[1;32m   1151\u001b[0m \u001b[0;34m\u001b[0m\u001b[0m\n\u001b[1;32m   1152\u001b[0m         \u001b[0mframes\u001b[0m \u001b[0;34m=\u001b[0m \u001b[0mself\u001b[0m\u001b[0;34m.\u001b[0m\u001b[0mformat_records\u001b[0m\u001b[0;34m(\u001b[0m\u001b[0mrecords\u001b[0m\u001b[0;34m,\u001b[0m \u001b[0mlast_unique\u001b[0m\u001b[0;34m,\u001b[0m \u001b[0mrecursion_repeat\u001b[0m\u001b[0;34m)\u001b[0m\u001b[0;34m\u001b[0m\u001b[0;34m\u001b[0m\u001b[0m\n",
      "\u001b[0;32m~/Mx2_SlowControlsDisplay/myenv/lib64/python3.6/site-packages/IPython/core/ultratb.py\u001b[0m in \u001b[0;36mfind_recursion\u001b[0;34m(etype, value, records)\u001b[0m\n\u001b[1;32m    449\u001b[0m     \u001b[0;31m# first frame (from in to out) that looks different.\u001b[0m\u001b[0;34m\u001b[0m\u001b[0;34m\u001b[0m\u001b[0;34m\u001b[0m\u001b[0m\n\u001b[1;32m    450\u001b[0m     \u001b[0;32mif\u001b[0m \u001b[0;32mnot\u001b[0m \u001b[0mis_recursion_error\u001b[0m\u001b[0;34m(\u001b[0m\u001b[0metype\u001b[0m\u001b[0;34m,\u001b[0m \u001b[0mvalue\u001b[0m\u001b[0;34m,\u001b[0m \u001b[0mrecords\u001b[0m\u001b[0;34m)\u001b[0m\u001b[0;34m:\u001b[0m\u001b[0;34m\u001b[0m\u001b[0;34m\u001b[0m\u001b[0m\n\u001b[0;32m--> 451\u001b[0;31m         \u001b[0;32mreturn\u001b[0m \u001b[0mlen\u001b[0m\u001b[0;34m(\u001b[0m\u001b[0mrecords\u001b[0m\u001b[0;34m)\u001b[0m\u001b[0;34m,\u001b[0m \u001b[0;36m0\u001b[0m\u001b[0;34m\u001b[0m\u001b[0;34m\u001b[0m\u001b[0m\n\u001b[0m\u001b[1;32m    452\u001b[0m \u001b[0;34m\u001b[0m\u001b[0m\n\u001b[1;32m    453\u001b[0m     \u001b[0;31m# Select filename, lineno, func_name to track frames with\u001b[0m\u001b[0;34m\u001b[0m\u001b[0;34m\u001b[0m\u001b[0;34m\u001b[0m\u001b[0m\n",
      "\u001b[0;31mTypeError\u001b[0m: object of type 'NoneType' has no len()"
     ]
    }
   ],
   "source": [
    "tti.CONTINUOUS_monitoring(\"voltage\")"
   ]
  },
  {
   "cell_type": "code",
   "execution_count": null,
   "metadata": {},
   "outputs": [],
   "source": []
  }
 ],
 "metadata": {
  "kernelspec": {
   "display_name": "myenv",
   "language": "python",
   "name": "python3"
  },
  "language_info": {
   "codemirror_mode": {
    "name": "ipython",
    "version": 3
   },
   "file_extension": ".py",
   "mimetype": "text/x-python",
   "name": "python",
   "nbconvert_exporter": "python",
   "pygments_lexer": "ipython3",
   "version": "3.6.8"
  },
  "orig_nbformat": 4
 },
 "nbformat": 4,
 "nbformat_minor": 2
}
